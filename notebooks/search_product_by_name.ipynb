{
 "cells": [
  {
   "cell_type": "code",
   "execution_count": 1,
   "source": [
    "import os\r\n",
    "os.getcwd()\r\n",
    "os.chdir('d:\\\\bot_telegram_customer_support\\\\sheets')\r\n",
    "\r\n",
    "\r\n",
    "import utils\r\n",
    "import pandas as pd"
   ],
   "outputs": [],
   "metadata": {}
  },
  {
   "cell_type": "code",
   "execution_count": 2,
   "source": [
    "# Obtaining Google Sheet\r\n",
    "sh = utils.getGoogleSpreadsheet(\r\n",
    "    'products.json',\r\n",
    "    utils.PRODUCTS_SHEET_KEY\r\n",
    ")"
   ],
   "outputs": [],
   "metadata": {}
  },
  {
   "cell_type": "code",
   "execution_count": 3,
   "source": [
    "prods = pd.DataFrame(utils.getOrCreateGoogleWorksheet(sh, 'Products').get_all_records(value_render_option='UNFORMATTED_VALUE', numericise_ignore=['all']))"
   ],
   "outputs": [],
   "metadata": {}
  },
  {
   "cell_type": "code",
   "execution_count": 19,
   "source": [
    "df = prods.copy()\r\n",
    "df = df.loc[df['Descrip'].str.contains('GU'.upper())][['Descrip', 'Mayor', 'Detal']]\r\n",
    "df.to_dict(orient='records')\r\n",
    "l = ''\r\n",
    "for e in df.to_dict(orient='records'):\r\n",
    "    l += f'{e[\"Descrip\"]} ➡️ {e[\"Detal\"]}$ ({e[\"Detal\"] * 4_100_000} Bs)\\n'\r\n",
    "print(l)"
   ],
   "outputs": [
    {
     "output_type": "stream",
     "name": "stdout",
     "text": [
      "ADEREZO DE AJOPORRO Y OREGANO NATUGURT ➡️ 1.56$ (6396000.0 Bs)\n",
      "ADEREZO DE CELERY NATUGURT ➡️ 1.56$ (6396000.0 Bs)\n",
      "ADEREZO DE CILANTRO NATUGURT ➡️ 1.56$ (6396000.0 Bs)\n",
      "ADEREZO DE PIMENTON NATUGURT ➡️ 1.56$ (6396000.0 Bs)\n",
      "AGUA CRYSTAL 330 CM3 ➡️ 0.18$ (738000.0 Bs)\n",
      "AGUA CRYSTAL 4.8 L ➡️ 1.11$ (4551000.0 Bs)\n",
      "AGUA MINALBA 1.5 L ➡️ 1.24$ (5084000.0 Bs)\n",
      "AGUA MINALBA 355 ML ➡️ 0.26$ (1066000.0 Bs)\n",
      "AGUA MINALBA 355 ML ➡️ 0.26$ (1066000.0 Bs)\n",
      "AGUA MINALBA 5 L ➡️ 2.06$ (8446000.0 Bs)\n",
      "AGUA MINALBA 600 ML ➡️ 0.65$ (2665000.0 Bs)\n",
      "AGUA NEVADA 1.5 L ➡️ 0.48$ (1968000.0 Bs)\n",
      "AGUA NEVADA 5 L ➡️ 2.06$ (8446000.0 Bs)\n",
      "AGUA NEVADA 5 L ➡️ 2.06$ (8446000.0 Bs)\n",
      "AGUA NEVADA 600 ML ➡️ 0.25$ (1025000.0 Bs)\n",
      "CARNE PARA GUISAR ➡️ 4.32$ (17712000.0 Bs)\n",
      "CARNE PARA GUISAR ➡️ 4.32$ (17712000.0 Bs)\n",
      "ENJUAGUE COLGATE LUMINOUS WHITE 250 ML ➡️ 1.05$ (4305000.0 Bs)\n",
      "GALLETON RELLENO DE GUAYABA ROGAL 480GR ➡️ 4.04$ (16564000.0 Bs)\n",
      "MASA FACIL MI GUSTO 900 GR ➡️ 1.95$ (7995000.0 Bs)\n",
      "MASA FACIL MI GUSTO 900 GR ➡️ 1.95$ (7995000.0 Bs)\n",
      "MIGURT 250 GR ➡️ 2.14$ (8774000.0 Bs)\n",
      "NATUGURT DE MANGO YOGURT ➡️ 1.5$ (6150000.0 Bs)\n",
      "NATUGURT DE PARCHITA YOGURT ➡️ 1.5$ (6150000.0 Bs)\n",
      "NATUGURT PIÑA YOGURT ➡️ 1.5$ (6150000.0 Bs)\n",
      "PAN DE HAMBURGUESA ➡️ 1.04$ (4264000.0 Bs)\n",
      "YOGURT CASERO GRANDE ➡️ 3.0$ (12300000.0 Bs)\n",
      "YOGURT CASERO PEQUEÑO ➡️ 1.3$ (5330000.0 Bs)\n",
      "\n"
     ]
    }
   ],
   "metadata": {}
  },
  {
   "cell_type": "code",
   "execution_count": null,
   "source": [],
   "outputs": [],
   "metadata": {}
  }
 ],
 "metadata": {
  "orig_nbformat": 4,
  "language_info": {
   "name": "python",
   "version": "3.9.5",
   "mimetype": "text/x-python",
   "codemirror_mode": {
    "name": "ipython",
    "version": 3
   },
   "pygments_lexer": "ipython3",
   "nbconvert_exporter": "python",
   "file_extension": ".py"
  },
  "kernelspec": {
   "name": "python3",
   "display_name": "Python 3.9.5 64-bit ('env': venv)"
  },
  "interpreter": {
   "hash": "d9dd36516df43147025478bd3751db14af9794abe7af54c7d30916f86e7f4542"
  }
 },
 "nbformat": 4,
 "nbformat_minor": 2
}