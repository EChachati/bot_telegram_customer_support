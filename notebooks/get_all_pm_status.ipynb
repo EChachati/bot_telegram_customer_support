{
 "cells": [
  {
   "cell_type": "code",
   "execution_count": 14,
   "source": [
    "import os\r\n",
    "os.getcwd()\r\n",
    "os.chdir('d:\\\\bot_telegram_customer_support\\\\sheets')\r\n",
    "\r\n",
    "\r\n",
    "import utils\r\n",
    "import pandas as pd"
   ],
   "outputs": [],
   "metadata": {}
  },
  {
   "cell_type": "code",
   "execution_count": 24,
   "source": [
    "sh = utils.getGoogleSpreadsheet(\r\n",
    "        'credentials.json',\r\n",
    "        utils.ACCOUNT_STATE_SHEET_KEY\r\n",
    "    )\r\n",
    "sheet = utils.getOrCreateGoogleWorksheet(sh, 'Ingreso Pago Movil')\r\n",
    "df = pd.DataFrame(sheet.get_all_records())[['Fecha', 'Referencia', 'Monto', 'Estado']]\r\n",
    "s = str(df.tail(20))\r\n",
    "#print(s)"
   ],
   "outputs": [
    {
     "output_type": "stream",
     "name": "stdout",
     "text": [
      "         Fecha   Referencia          Monto         Estado\n",
      "6   16/06/2021  11677113975  25.280.000,00  No Verificado\n",
      "7   21/06/2021  21633003830   8.040.000,00  No Verificado\n",
      "8   21/06/2021  15133365687  17.560.000,00  No Verificado\n",
      "9   23/06/2021  11741734025   7.600.000,00  No Verificado\n",
      "10  25/06/2021  51518011174   7.215.157,00  No Verificado\n",
      "11  25/06/2021   2285402285   3.200.000,00  No Verificado\n",
      "12  29/06/2021  62779562779   2.880.000,00  No Verificado\n",
      "13  29/06/2021  61943661943   6.041.280,00  No Verificado\n",
      "14  30/06/2021  93931005328  20.124.000,00  No Verificado\n",
      "15  01/07/2021  86306786306   6.400.000,00  No Verificado\n"
     ]
    }
   ],
   "metadata": {}
  },
  {
   "cell_type": "code",
   "execution_count": 25,
   "source": [
    "s"
   ],
   "outputs": [
    {
     "output_type": "execute_result",
     "data": {
      "text/plain": [
       "'         Fecha   Referencia          Monto         Estado\\n6   16/06/2021  11677113975  25.280.000,00  No Verificado\\n7   21/06/2021  21633003830   8.040.000,00  No Verificado\\n8   21/06/2021  15133365687  17.560.000,00  No Verificado\\n9   23/06/2021  11741734025   7.600.000,00  No Verificado\\n10  25/06/2021  51518011174   7.215.157,00  No Verificado\\n11  25/06/2021   2285402285   3.200.000,00  No Verificado\\n12  29/06/2021  62779562779   2.880.000,00  No Verificado\\n13  29/06/2021  61943661943   6.041.280,00  No Verificado\\n14  30/06/2021  93931005328  20.124.000,00  No Verificado\\n15  01/07/2021  86306786306   6.400.000,00  No Verificado'"
      ]
     },
     "metadata": {},
     "execution_count": 25
    }
   ],
   "metadata": {}
  },
  {
   "cell_type": "code",
   "execution_count": null,
   "source": [],
   "outputs": [],
   "metadata": {}
  }
 ],
 "metadata": {
  "orig_nbformat": 4,
  "language_info": {
   "name": "python",
   "version": "3.9.5",
   "mimetype": "text/x-python",
   "codemirror_mode": {
    "name": "ipython",
    "version": 3
   },
   "pygments_lexer": "ipython3",
   "nbconvert_exporter": "python",
   "file_extension": ".py"
  },
  "kernelspec": {
   "name": "python3",
   "display_name": "Python 3.9.5 64-bit ('env': venv)"
  },
  "interpreter": {
   "hash": "d9dd36516df43147025478bd3751db14af9794abe7af54c7d30916f86e7f4542"
  }
 },
 "nbformat": 4,
 "nbformat_minor": 2
}