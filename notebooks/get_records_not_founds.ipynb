{
 "cells": [
  {
   "cell_type": "code",
   "execution_count": 1,
   "source": [
    "import os\r\n",
    "os.getcwd()\r\n",
    "os.chdir('d:\\\\bot_telegram_customer_support\\\\sheets')\r\n",
    "\r\n",
    "\r\n",
    "import utils\r\n",
    "import pandas as pd"
   ],
   "outputs": [],
   "metadata": {}
  },
  {
   "cell_type": "code",
   "execution_count": 7,
   "source": [
    "sh = utils.getGoogleSpreadsheet(\r\n",
    "        'credentials.json',\r\n",
    "        utils.ACCOUNT_STATE_SHEET_KEY\r\n",
    ")\r\n",
    "sheet = utils.getOrCreateGoogleWorksheet(sh, 'TLG Pago Movil')\r\n",
    "pm_sheet = sh.worksheet('Ingreso Pago Movil')\r\n",
    "df = pd.DataFrame(sheet.get_all_records())\r\n",
    "df = df.loc[df['Estado'] == 'No Verificado']\r\n",
    "df = df[['first_name', 'last_name', 'Telefono', 'Referencia', 'Monto']]\r\n",
    "df"
   ],
   "outputs": [
    {
     "output_type": "execute_result",
     "data": {
      "text/html": [
       "<div>\n",
       "<style scoped>\n",
       "    .dataframe tbody tr th:only-of-type {\n",
       "        vertical-align: middle;\n",
       "    }\n",
       "\n",
       "    .dataframe tbody tr th {\n",
       "        vertical-align: top;\n",
       "    }\n",
       "\n",
       "    .dataframe thead th {\n",
       "        text-align: right;\n",
       "    }\n",
       "</style>\n",
       "<table border=\"1\" class=\"dataframe\">\n",
       "  <thead>\n",
       "    <tr style=\"text-align: right;\">\n",
       "      <th></th>\n",
       "      <th>first_name</th>\n",
       "      <th>last_name</th>\n",
       "      <th>Telefono</th>\n",
       "      <th>Referencia</th>\n",
       "      <th>Monto</th>\n",
       "    </tr>\n",
       "  </thead>\n",
       "  <tbody>\n",
       "    <tr>\n",
       "      <th>2</th>\n",
       "      <td>Edkar</td>\n",
       "      <td>Chachati</td>\n",
       "      <td>412354674</td>\n",
       "      <td>32835272414</td>\n",
       "      <td>3823360</td>\n",
       "    </tr>\n",
       "    <tr>\n",
       "      <th>3</th>\n",
       "      <td>Edkar</td>\n",
       "      <td>Chachati</td>\n",
       "      <td>123456789</td>\n",
       "      <td>61010011128</td>\n",
       "      <td>3994000</td>\n",
       "    </tr>\n",
       "    <tr>\n",
       "      <th>4</th>\n",
       "      <td>Edkar</td>\n",
       "      <td>Chachati</td>\n",
       "      <td>123654987</td>\n",
       "      <td>62911005227</td>\n",
       "      <td>12209000</td>\n",
       "    </tr>\n",
       "    <tr>\n",
       "      <th>5</th>\n",
       "      <td>Edkar</td>\n",
       "      <td>Chachati</td>\n",
       "      <td>412580123</td>\n",
       "      <td>62911005227</td>\n",
       "      <td>12209000</td>\n",
       "    </tr>\n",
       "  </tbody>\n",
       "</table>\n",
       "</div>"
      ],
      "text/plain": [
       "  first_name last_name   Telefono   Referencia     Monto\n",
       "2      Edkar  Chachati  412354674  32835272414   3823360\n",
       "3      Edkar  Chachati  123456789  61010011128   3994000\n",
       "4      Edkar  Chachati  123654987  62911005227  12209000\n",
       "5      Edkar  Chachati  412580123  62911005227  12209000"
      ]
     },
     "metadata": {},
     "execution_count": 7
    }
   ],
   "metadata": {}
  },
  {
   "cell_type": "code",
   "execution_count": null,
   "source": [],
   "outputs": [],
   "metadata": {}
  }
 ],
 "metadata": {
  "orig_nbformat": 4,
  "language_info": {
   "name": "python",
   "version": "3.9.5",
   "mimetype": "text/x-python",
   "codemirror_mode": {
    "name": "ipython",
    "version": 3
   },
   "pygments_lexer": "ipython3",
   "nbconvert_exporter": "python",
   "file_extension": ".py"
  },
  "kernelspec": {
   "name": "python3",
   "display_name": "Python 3.9.5 64-bit ('env': venv)"
  },
  "interpreter": {
   "hash": "d9dd36516df43147025478bd3751db14af9794abe7af54c7d30916f86e7f4542"
  }
 },
 "nbformat": 4,
 "nbformat_minor": 2
}